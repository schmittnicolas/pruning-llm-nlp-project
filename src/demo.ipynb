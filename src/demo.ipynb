{
 "cells": [
  {
   "cell_type": "code",
   "execution_count": 1,
   "metadata": {},
   "outputs": [
    {
     "name": "stderr",
     "output_type": "stream",
     "text": [
      "/home/nicolas/miniconda3/envs/nlpa/lib/python3.11/site-packages/tqdm/auto.py:21: TqdmWarning: IProgress not found. Please update jupyter and ipywidgets. See https://ipywidgets.readthedocs.io/en/stable/user_install.html\n",
      "  from .autonotebook import tqdm as notebook_tqdm\n"
     ]
    }
   ],
   "source": [
    "from model_config import ModelConfig\n",
    "from pruning_methods.wanda import wanda_pruning\n",
    "from pruning_methods.magnitude import magnitude_pruning\n",
    "import torch\n",
    "import matplotlib.pyplot as plt\n"
   ]
  },
  {
   "cell_type": "code",
   "execution_count": 2,
   "metadata": {},
   "outputs": [
    {
     "name": "stdout",
     "output_type": "stream",
     "text": [
      "Loading model 'facebook/opt-350m' from cache directory '.my_cache/llm_weights/'...\n"
     ]
    }
   ],
   "source": [
    "import os\n",
    "from dotenv import load_dotenv\n",
    "from evaluation_pruning import generate_text\n",
    "\n",
    "\n",
    "load_dotenv()\n",
    "\n",
    "token = os.getenv(\"HUGGINGFACE_TOKEN\")\n",
    "\n",
    "llama_model = \"meta-llama/Llama-3.2-1B\"\n",
    "modelConfig = ModelConfig(token=token)\n",
    "model = modelConfig.load_llm()"
   ]
  },
  {
   "cell_type": "markdown",
   "metadata": {},
   "source": [
    "## Magnitude Pruning"
   ]
  },
  {
   "cell_type": "code",
   "execution_count": 3,
   "metadata": {},
   "outputs": [],
   "source": [
    "def count_parameters(model):\n",
    "    \"\"\"\n",
    "    Count the total number of non-zero parameters in a model.\n",
    "    \n",
    "    Args:\n",
    "        model (torch.nn.Module): The model to count parameters for\n",
    "    \n",
    "    Returns:\n",
    "        tuple: (total non-zero parameters, trainable non-zero parameters)\n",
    "    \"\"\"\n",
    "    total_nonzero_params = 0\n",
    "    trainable_nonzero_params = 0\n",
    "    \n",
    "    for param in model.parameters():\n",
    "        num_nonzero_params = torch.count_nonzero(param).item()  # Count non-zero elements\n",
    "        total_nonzero_params += num_nonzero_params\n",
    "        if param.requires_grad:\n",
    "            trainable_nonzero_params += num_nonzero_params\n",
    "    \n",
    "    return total_nonzero_params, trainable_nonzero_params\n"
   ]
  },
  {
   "cell_type": "code",
   "execution_count": 4,
   "metadata": {},
   "outputs": [
    {
     "name": "stdout",
     "output_type": "stream",
     "text": [
      "number of parameters in original model: (331195120, 331195120)\n",
      "number of parameters in prunned model: (166761506, 166761506)\n"
     ]
    }
   ],
   "source": [
    "prunedModelConfig = modelConfig.copy_model()\n",
    "\n",
    "original_model = modelConfig.model\n",
    "prunned_model = prunedModelConfig.model\n",
    "\n",
    "pruning_result = magnitude_pruning(prunned_model, 0.5)\n",
    "\n",
    "print(f\"number of parameters in original model: {count_parameters(original_model)}\")\n",
    "print(f\"number of parameters in prunned model: {count_parameters(prunned_model)}\")"
   ]
  },
  {
   "cell_type": "code",
   "execution_count": 5,
   "metadata": {},
   "outputs": [
    {
     "name": "stderr",
     "output_type": "stream",
     "text": [
      "Wikitext Perplexity:   4%|▎         | 5/140 [00:23<10:24,  4.62s/it]\n"
     ]
    },
    {
     "ename": "KeyboardInterrupt",
     "evalue": "",
     "output_type": "error",
     "traceback": [
      "\u001b[0;31m---------------------------------------------------------------------------\u001b[0m",
      "\u001b[0;31mKeyboardInterrupt\u001b[0m                         Traceback (most recent call last)",
      "Cell \u001b[0;32mIn[5], line 6\u001b[0m\n\u001b[1;32m      3\u001b[0m device \u001b[38;5;241m=\u001b[39m torch\u001b[38;5;241m.\u001b[39mdevice(\u001b[38;5;124m\"\u001b[39m\u001b[38;5;124mcuda\u001b[39m\u001b[38;5;124m\"\u001b[39m \u001b[38;5;28;01mif\u001b[39;00m torch\u001b[38;5;241m.\u001b[39mcuda\u001b[38;5;241m.\u001b[39mis_available() \u001b[38;5;28;01melse\u001b[39;00m \u001b[38;5;124m\"\u001b[39m\u001b[38;5;124mcpu\u001b[39m\u001b[38;5;124m\"\u001b[39m)\n\u001b[1;32m      4\u001b[0m prunned_model\u001b[38;5;241m.\u001b[39mto(device)\n\u001b[0;32m----> 6\u001b[0m \u001b[43mglobal_evaluation\u001b[49m\u001b[43m(\u001b[49m\u001b[43mprunedModelConfig\u001b[49m\u001b[43m,\u001b[49m\u001b[43m \u001b[49m\u001b[43mdevice\u001b[49m\u001b[38;5;241;43m=\u001b[39;49m\u001b[43mdevice\u001b[49m\u001b[43m)\u001b[49m\n",
      "File \u001b[0;32m~/Prog/pruning-llm-nlp-project/src/evaluation_pruning.py:201\u001b[0m, in \u001b[0;36mglobal_evaluation\u001b[0;34m(modelConfig, device)\u001b[0m\n\u001b[1;32m    198\u001b[0m generated_text \u001b[38;5;241m=\u001b[39m generate_text(modelConfig\u001b[38;5;241m.\u001b[39mmodel, modelConfig\u001b[38;5;241m.\u001b[39mtokenizer, PROMPT)\n\u001b[1;32m    200\u001b[0m \u001b[38;5;66;03m# Perplexity evaluation\u001b[39;00m\n\u001b[0;32m--> 201\u001b[0m ppl_test \u001b[38;5;241m=\u001b[39m \u001b[43meval_perplexity\u001b[49m\u001b[43m(\u001b[49m\u001b[43mmodelConfig\u001b[49m\u001b[43m,\u001b[49m\u001b[43m \u001b[49m\u001b[43mmodelConfig\u001b[49m\u001b[38;5;241;43m.\u001b[39;49m\u001b[43mmodel\u001b[49m\u001b[43m,\u001b[49m\u001b[43m \u001b[49m\u001b[43mmodelConfig\u001b[49m\u001b[38;5;241;43m.\u001b[39;49m\u001b[43mtokenizer\u001b[49m\u001b[43m,\u001b[49m\u001b[43m \u001b[49m\u001b[43mdevice\u001b[49m\u001b[43m)\u001b[49m\n\u001b[1;32m    203\u001b[0m \u001b[38;5;66;03m# Inference time evaluation\u001b[39;00m\n\u001b[1;32m    204\u001b[0m inference_time \u001b[38;5;241m=\u001b[39m measure_inference_time(modelConfig\u001b[38;5;241m.\u001b[39mmodel, modelConfig\u001b[38;5;241m.\u001b[39mnsamples, \n\u001b[1;32m    205\u001b[0m                                      modelConfig\u001b[38;5;241m.\u001b[39mseed, modelConfig\u001b[38;5;241m.\u001b[39mseqlen, modelConfig\u001b[38;5;241m.\u001b[39mtokenizer)\n",
      "File \u001b[0;32m~/Prog/pruning-llm-nlp-project/src/evaluation_pruning.py:71\u001b[0m, in \u001b[0;36meval_perplexity\u001b[0;34m(args, model, tokenizer, device)\u001b[0m\n\u001b[1;32m     69\u001b[0m \u001b[38;5;66;03m# Evaluate ppl in no grad context to avoid updating the model\u001b[39;00m\n\u001b[1;32m     70\u001b[0m \u001b[38;5;28;01mwith\u001b[39;00m torch\u001b[38;5;241m.\u001b[39mno_grad():\n\u001b[0;32m---> 71\u001b[0m     ppl_test \u001b[38;5;241m=\u001b[39m \u001b[43meval_ppl_wikitext\u001b[49m\u001b[43m(\u001b[49m\u001b[43mmodel\u001b[49m\u001b[43m,\u001b[49m\u001b[43m \u001b[49m\u001b[43mtestloader\u001b[49m\u001b[43m,\u001b[49m\u001b[43m \u001b[49m\u001b[38;5;241;43m1\u001b[39;49m\u001b[43m,\u001b[49m\u001b[43m \u001b[49m\u001b[43mdevice\u001b[49m\u001b[43m)\u001b[49m\n\u001b[1;32m     73\u001b[0m \u001b[38;5;28;01mreturn\u001b[39;00m ppl_test\n",
      "File \u001b[0;32m~/Prog/pruning-llm-nlp-project/src/evaluation_pruning.py:34\u001b[0m, in \u001b[0;36meval_ppl_wikitext\u001b[0;34m(model, testenc, bs, device)\u001b[0m\n\u001b[1;32m     31\u001b[0m j \u001b[38;5;241m=\u001b[39m \u001b[38;5;28mmin\u001b[39m(i \u001b[38;5;241m+\u001b[39m bs, nsamples)\n\u001b[1;32m     33\u001b[0m \u001b[38;5;66;03m# Prepare inputs and move to device\u001b[39;00m\n\u001b[0;32m---> 34\u001b[0m inputs \u001b[38;5;241m=\u001b[39m \u001b[43mtestenc\u001b[49m\u001b[43m[\u001b[49m\u001b[43m:\u001b[49m\u001b[43m,\u001b[49m\u001b[43m \u001b[49m\u001b[43m(\u001b[49m\u001b[43mi\u001b[49m\u001b[43m \u001b[49m\u001b[38;5;241;43m*\u001b[39;49m\u001b[43m \u001b[49m\u001b[43mmodel\u001b[49m\u001b[38;5;241;43m.\u001b[39;49m\u001b[43mseqlen\u001b[49m\u001b[43m)\u001b[49m\u001b[43m \u001b[49m\u001b[43m:\u001b[49m\u001b[43m \u001b[49m\u001b[43m(\u001b[49m\u001b[43mj\u001b[49m\u001b[43m \u001b[49m\u001b[38;5;241;43m*\u001b[39;49m\u001b[43m \u001b[49m\u001b[43mmodel\u001b[49m\u001b[38;5;241;43m.\u001b[39;49m\u001b[43mseqlen\u001b[49m\u001b[43m)\u001b[49m\u001b[43m]\u001b[49m\u001b[38;5;241;43m.\u001b[39;49m\u001b[43mto\u001b[49m\u001b[43m(\u001b[49m\u001b[43mdevice\u001b[49m\u001b[43m)\u001b[49m\n\u001b[1;32m     35\u001b[0m inputs \u001b[38;5;241m=\u001b[39m inputs\u001b[38;5;241m.\u001b[39mreshape(j \u001b[38;5;241m-\u001b[39m i, model\u001b[38;5;241m.\u001b[39mseqlen)\n\u001b[1;32m     37\u001b[0m \u001b[38;5;66;03m# Forward pass through the model\u001b[39;00m\n",
      "\u001b[0;31mKeyboardInterrupt\u001b[0m: "
     ]
    }
   ],
   "source": [
    "from evaluation_pruning import global_evaluation\n",
    "\n",
    "device = torch.device(\"cuda\" if torch.cuda.is_available() else \"cpu\")\n",
    "prunned_model.to(device)\n",
    "\n",
    "global_evaluation(prunedModelConfig, device=device)"
   ]
  },
  {
   "cell_type": "code",
   "execution_count": 7,
   "metadata": {},
   "outputs": [
    {
     "name": "stdout",
     "output_type": "stream",
     "text": [
      "Pruning ratio: 0.01\n",
      "(327906570, 327906570)\n",
      "(331195120, 331195120)\n",
      "Pruning ratio: 0.11\n",
      "(295016699, 295016699)\n",
      "(331195120, 331195120)\n",
      "Pruning ratio: 0.21\n",
      "(262126971, 262126971)\n",
      "(331195120, 331195120)\n",
      "Pruning ratio: 0.31\n",
      "(229230228, 229230228)\n",
      "(331195120, 331195120)\n",
      "Pruning ratio: 0.41\n",
      "(196347344, 196347344)\n",
      "(331195120, 331195120)\n",
      "Pruning ratio: 0.51\n",
      "(163468216, 163468216)\n",
      "(331195120, 331195120)\n",
      "Pruning ratio: 0.61\n",
      "(130586282, 130586282)\n",
      "(331195120, 331195120)\n",
      "Pruning ratio: 0.71\n",
      "(97696610, 97696610)\n",
      "(331195120, 331195120)\n",
      "Pruning ratio: 0.81\n",
      "(64834045, 64834045)\n",
      "(331195120, 331195120)\n"
     ]
    }
   ],
   "source": [
    "from evaluation_pruning import global_evaluation\n",
    "\n",
    "device = torch.device(\"cuda:0\" if torch.cuda.is_available() else \"cpu\")\n",
    "original_model.to(device)\n",
    "prunned_model.to(device)\n",
    "\n",
    "results = []\n",
    "ratios = [0.1, 0.2, 0.3, 0.4, 0.5, 0.6, 0.7, 0.8]\n",
    "for ratio in ratios:\n",
    "    ratio = ratio / 100\n",
    "    print(f\"Pruning ratio: {ratio}\")\n",
    "    tmpModelConfig = modelConfig.copy_model()\n",
    "    pruning_result = magnitude_pruning(tmpModelConfig.model, ratio)\n",
    "    results.append(global_evaluation(tmpModelConfig, device=device))\n",
    "\n",
    "    print(count_parameters(tmpModelConfig.model))\n",
    "    print(count_parameters(modelConfig.model))\n"
   ]
  },
  {
   "cell_type": "code",
   "execution_count": 8,
   "metadata": {},
   "outputs": [
    {
     "name": "stdout",
     "output_type": "stream",
     "text": [
      "[662538026, 662538026, 662538026, 662538026, 662538026, 662538026, 662538026, 662538026, 662538026]\n"
     ]
    },
    {
     "data": {
      "text/plain": [
       "[<matplotlib.lines.Line2D at 0x7f75b04eb9d0>]"
      ]
     },
     "execution_count": 8,
     "metadata": {},
     "output_type": "execute_result"
    },
    {
     "data": {
      "image/png": "[encoded data removed]",
      "text/plain": [
       "<Figure size 640x480 with 1 Axes>"
      ]
     },
     "metadata": {},
     "output_type": "display_data"
    }
   ],
   "source": [
    "# Plot memory size over pruning ratio\n",
    "model_size_bytes = [result[\"memory\"][\"model_size_bytes\"] for result in results]\n",
    "print(model_size_bytes)\n",
    "plt.plot(ratios, [result[\"memory\"][\"model_size_bytes\"] for result in results])\n",
    "# print()"
   ]
  },
  {
   "cell_type": "markdown",
   "metadata": {},
   "source": [
    "## Wanda Pruning"
   ]
  },
  {
   "cell_type": "code",
   "execution_count": null,
   "metadata": {},
   "outputs": [],
   "source": [
    "# wanda_pruning(modelConfig)"
   ]
  }
 ],
 "metadata": {
  "kernelspec": {
   "display_name": "nlpa",
   "language": "python",
   "name": "python3"
  },
  "language_info": {
   "codemirror_mode": {
    "name": "ipython",
    "version": 3
   },
   "file_extension": ".py",
   "mimetype": "text/x-python",
   "name": "python",
   "nbconvert_exporter": "python",
   "pygments_lexer": "ipython3",
   "version": "3.11.10"
  }
 },
 "nbformat": 4,
 "nbformat_minor": 2
}
