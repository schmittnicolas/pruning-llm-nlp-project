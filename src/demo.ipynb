{
 "cells": [
  {
   "cell_type": "code",
   "execution_count": 3,
   "metadata": {},
   "outputs": [],
   "source": [
    "import torch\n",
    "import os\n",
    "import random\n",
    "import matplotlib.pyplot as plt\n",
    "import pandas as pd\n",
    "from model_config import ModelConfig\n",
    "from pruning_methods.wanda import wanda_pruning\n",
    "from pruning_methods.magnitude import magnitude_pruning\n",
    "from evaluation_pruning import global_evaluation, generate_text, count_parameters, calculate_ecological_impact\n",
    "from data_loading import get_wikitext2, get_wikitext2_unstructured\n",
    "from dotenv import load_dotenv\n",
    "from datasets import load_dataset\n",
    "from plot_functions import plot_metrics, compare_prompt, compare_ecological_impact, plot_metrics_horizontal\n"
   ]
  },
  {
   "cell_type": "markdown",
   "metadata": {},
   "source": [
    "### Settings"
   ]
  },
  {
   "cell_type": "code",
   "execution_count": null,
   "metadata": {},
   "outputs": [],
   "source": [
    "load_dotenv()\n",
    "token = os.getenv(\"HUGGINGFACE_TOKEN\")\n",
    "llama_model = \"meta-llama/Llama-3.2-1B\"\n",
    "\n",
    "device = torch.device(\"cuda:0\" if torch.cuda.is_available() else \"cpu\")\n",
    "ratios = [0.0, 0.1, 0.2, 0.3, 0.4, 0.5, 0.6]\n",
    "\n",
    "def execute_benchmark(model_config, pruning_function):\n",
    "    trainloader , testloader = get_wikitext2_unstructured(model_config.nsamples, model_config.seed, model_config.seqlen, model_config.tokenizer)\n",
    "\n",
    "    results = []\n",
    "    for ratio in ratios:\n",
    "        print(f\"Pruning ratio: {ratio}\")\n",
    "        tmp_model_config = model_config.copy_model()\n",
    "        if ratio != 0:\n",
    "            if pruning_function == \"magnitude\":\n",
    "                magnitude_pruning(tmp_model_config.model, ratio)\n",
    "            elif pruning_function == \"wanda\":\n",
    "                model_config.sparsity_ratio = ratio\n",
    "                wanda_pruning(tmp_model_config.model)\n",
    "        \n",
    "        result_eval = global_evaluation(tmp_model_config, ratio, trainloader=trainloader, testloader=testloader, is_structured=False, device=device)\n",
    "        results.append(result_eval)\n",
    "        \n",
    "        print(count_parameters(tmp_model_config.model))\n",
    "\n",
    "    return results\n",
    "\n",
    "\n",
    "def display_unstructured_results(results):\n",
    "    ecological_impact = compare_ecological_impact(results, ratios)\n",
    "    display(ecological_impact)\n",
    "\n",
    "    prompt = compare_prompt(results, ratios)\n",
    "    display(prompt)\n",
    "\n",
    "    # Extract data for plotting\n",
    "    perplexity = [result[\"perplexity\"] for result in results]\n",
    "    model_size = [result[\"model_size\"] for result in results]\n",
    "    plot_metrics_horizontal(ratios, perplexity, None, model_size)\n",
    "\n"
   ]
  },
  {
   "cell_type": "markdown",
   "metadata": {},
   "source": [
    "### Magnitude Pruning - Facebook/OPT-350M"
   ]
  },
  {
   "cell_type": "code",
   "execution_count": 10,
   "metadata": {},
   "outputs": [
    {
     "name": "stdout",
     "output_type": "stream",
     "text": [
      "Loading model 'facebook/opt-350m' from cache directory '.my_cache/llm_weights/'...\n"
     ]
    },
    {
     "name": "stderr",
     "output_type": "stream",
     "text": [
      "/home/lyes/Downloads/SCIA/NLP2/pruning-llm-nlp-project/.venv/lib/python3.10/site-packages/torch/cuda/__init__.py:716: UserWarning: Can't initialize NVML\n",
      "  warnings.warn(\"Can't initialize NVML\")\n"
     ]
    }
   ],
   "source": [
    "facebook_model_config = ModelConfig(model_name=\"facebook/opt-350m\")\n",
    "facebook_model_config.load_llm()\n",
    "\n",
    "results = execute_benchmark(facebook_model_config, \"magnitude_pruning\")\n",
    "display_unstructured_results(results)"
   ]
  },
  {
   "cell_type": "markdown",
   "metadata": {},
   "source": [
    "### Magnitude Pruning - meta-llama/Llama-3.2-1B"
   ]
  },
  {
   "cell_type": "code",
   "execution_count": null,
   "metadata": {},
   "outputs": [],
   "source": [
    "llama_model_config = ModelConfig(model_name=llama_model, token=token)\n",
    "llama_model_config.load_llm()\n",
    "\n",
    "results = execute_benchmark(llama_model_config, \"magnitude_pruning\")\n",
    "display_unstructured_results(results)"
   ]
  },
  {
   "cell_type": "markdown",
   "metadata": {},
   "source": [
    "### Wanda Pruning - Facebook/OPT-350M"
   ]
  },
  {
   "cell_type": "code",
   "execution_count": null,
   "metadata": {},
   "outputs": [],
   "source": [
    "facebook_model_config = ModelConfig(model_name=\"facebook/opt-350m\")\n",
    "facebook_model_config.load_llm()\n",
    "\n",
    "results = execute_benchmark(facebook_model_config, \"magnitude_pruning\")\n",
    "display_unstructured_results(results)"
   ]
  },
  {
   "cell_type": "markdown",
   "metadata": {},
   "source": [
    "### Wanda Pruning - meta-llama/Llama-3.2-1B"
   ]
  },
  {
   "cell_type": "code",
   "execution_count": null,
   "metadata": {},
   "outputs": [],
   "source": [
    "llama_model_config = ModelConfig(model_name=llama_model, token=token)\n",
    "llama_model_config.load_llm()\n",
    "\n",
    "results = execute_benchmark(llama_model_config, \"wanda_pruning\")\n",
    "display_unstructured_results(results)"
   ]
  }
 ],
 "metadata": {
  "kernelspec": {
   "display_name": "nlpa",
   "language": "python",
   "name": "python3"
  },
  "language_info": {
   "codemirror_mode": {
    "name": "ipython",
    "version": 3
   },
   "file_extension": ".py",
   "mimetype": "text/x-python",
   "name": "python",
   "nbconvert_exporter": "python",
   "pygments_lexer": "ipython3",
   "version": "3.10.12"
  }
 },
 "nbformat": 4,
 "nbformat_minor": 2
}
